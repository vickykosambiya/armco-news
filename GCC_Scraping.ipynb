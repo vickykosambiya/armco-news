{
 "cells": [
  {
   "cell_type": "markdown",
   "id": "4a6a3a73-d2de-482b-884d-0a337dca3755",
   "metadata": {},
   "source": [
    "### Al Bayan"
   ]
  },
  {
   "cell_type": "code",
   "execution_count": 2,
   "id": "715643d1-d924-4d64-b21d-ceb948c2eb8c",
   "metadata": {},
   "outputs": [
    {
     "name": "stdout",
     "output_type": "stream",
     "text": [
      "Title:\n",
      "بايدن يمنح نجله عفواً رئاسياً في قضايا احتيال وحيازة أسلحة\n",
      "\n",
      "Date:\n",
      "\n",
      "\n",
      "Content:\n",
      "بايدن يعفو عن نجله هانتر في قضايا احتيال ضريبي وحيازة أسلحة نارية بشكل غير قانوني\n",
      "أعلن الرئيس الأمريكي المنتهية ولايته جو بايدن أمس الأحد أنه أصدر عفوا عن نجله هانتر الذي كان ينتظر الحكم عليه في قضيتَي احتيال ضريبي وحيازة أسلحة نارية في شكل غير قانوني.\n",
      "وقال الرئيس الديموقراطي \"لا يمكن لأي شخص عاقل يدرس وقائع قضية هانتر أن يتوصل إلى أي استنتاج آخر غير هذا: هانتر استُهدف فقط لأنه ابني، وهذا خطأ\"، متحدثا عن \"سوء تطبيق للعدالة\".\n",
      "وأضاف بايدن في بيان \"قلتُ إني لن أتدخل في قرارات وزارة العدل وقد التزمتُ وعدي حتى وأنا أرى نجلي يُحاكَم في شكل انتقائي وغير عادل\".\n",
      "وتابع \"لم تظهر الاتهامات في قضاياه إلا بعد أن حرّض عليها العديد من خصومي السياسيين في الكونغرس من أجل مهاجمتي ومعارضة انتخابي\".\n",
      "وأردف بايدن \"أنا أؤمن بالنظام القضائي لكنني (...) أعتقد أيضا أن (شكلا) فظا من السياسة قد أصاب تلك العملية وأدى إلى إساءة تطبيق العدالة\".\n",
      "وكان سبق للرئيس الأمريكي أن أكد مرارا أنه لن يمنح ابنه عفوا رئاسيا، وهو أمر أعاد البيت الأبيض تأكيده في سبتمبر.\n",
      "في سبتمبر، أقرّ هانتر رسميا بذنبه بكل التهم التسع الملاحق بها في قضية الاحتيال الضريبي. وكان القاضي حدّد موعد جلسة النطق بالحكم في 16 ديسمبر.\n",
      "وأمضى هانتر بايدن جزءا من العام 2024 في المحكمة، إذ أدين في ديلاوير بتهمة الكذب بشأن تعاطيه المخدرات عندما اشترى سلاحا ناريا، وهي جناية.\n"
     ]
    }
   ],
   "source": [
    "import requests\n",
    "from lxml import html  # For parsing HTML\n",
    "\n",
    "# Step 1: Send a GET request to the URL\n",
    "url = 'https://www.albayan.ae/news/world/11994'\n",
    "r = requests.get(url)\n",
    "\n",
    "# Step 2: Parse the HTML content\n",
    "tree = html.fromstring(r.content)\n",
    "\n",
    "# Step 3: Find the element with class \"newsdetail_title\"\n",
    "title_element = tree.xpath('//h1')\n",
    "if title_element:\n",
    "    title_text = title_element[0].text_content().strip()\n",
    "    print(\"Title:\")\n",
    "    print(title_text)\n",
    "else:\n",
    "    print(\"Title not found.\")\n",
    "\n",
    "# Step 4: Find the date element with class \"p-date\"\n",
    "date_element = tree.xpath('//time[@class=\"post-time\"]')\n",
    "if date_element:\n",
    "    date_text = date_element[0].text_content().strip()\n",
    "    print(\"\\nDate:\")\n",
    "    print(date_text)\n",
    "else:\n",
    "    print(\"\\nDate not found.\")\n",
    "\n",
    "# Step 5: Find all <p> elements inside the div with class \"storytext\"\n",
    "paragraph_divs = tree.xpath('//p[@class=\"article-text\"]')\n",
    "\n",
    "# Step 6: Extract and print text content from each <p> element\n",
    "print(\"\\nContent:\")\n",
    "for paragraph in paragraph_divs:\n",
    "    cleaned_text = paragraph.text_content().strip()\n",
    "    print(cleaned_text)\n"
   ]
  },
  {
   "cell_type": "code",
   "execution_count": null,
   "id": "dcc8bc6f-88bd-4641-888c-ffb72a61229d",
   "metadata": {},
   "outputs": [],
   "source": []
  },
  {
   "cell_type": "code",
   "execution_count": null,
   "id": "6536214b-6daf-43c1-b703-9e9a806da4fa",
   "metadata": {},
   "outputs": [],
   "source": []
  },
  {
   "cell_type": "code",
   "execution_count": null,
   "id": "eda15f4f-cf5d-44b4-91f0-881230eba842",
   "metadata": {},
   "outputs": [],
   "source": [
    "import requests\n",
    "from lxml import html  # For parsing HTML\n",
    "\n",
    "# Step 1: Send a GET request to the URL\n",
    "url = 'https://www.alkhaleej.ae/2024-12-02/%D8%B3%D9%88%D9%82-%D8%AF%D8%A8%D9%8A-%D9%8A%D8%AA%D9%81%D9%88%D9%82-%D8%AE%D9%84%D9%8A%D8%AC%D9%8A%D8%A7%D9%8B-%D9%81%D9%8A-%D9%86%D9%88%D9%81%D9%85%D8%A8%D8%B1/%D8%A3%D8%B3%D9%88%D8%A7%D9%82-%D8%B9%D8%B1%D8%A8%D9%8A%D8%A9/%D8%A7%D9%82%D8%AA%D8%B5%D8%A7%D8%AF'\n",
    "r = requests.get(url)\n",
    "\n",
    "# Step 2: Parse the HTML content\n",
    "tree = html.fromstring(r.content)\n",
    "\n",
    "# Step 3: Find the element with class \"newsdetail_title\"\n",
    "title_element = tree.xpath('//h1')\n",
    "if title_element:\n",
    "    title_text = title_element[0].text_content().strip()\n",
    "    print(\"Title:\")\n",
    "    print(title_text)\n",
    "else:\n",
    "    print(\"Title not found.\")\n",
    "\n",
    "# Step 4: Find the date element with class \"p-date\"\n",
    "date_element = tree.xpath('//time[@class=\"post-time\"]')\n",
    "if date_element:\n",
    "    date_text = date_element[0].text_content().strip()\n",
    "    print(\"\\nDate:\")\n",
    "    print(date_text)\n",
    "else:\n",
    "    print(\"\\nDate not found.\")\n",
    "\n",
    "# Step 5: Find all <p> elements inside the div with class \"storytext\"\n",
    "paragraph_divs = tree.xpath('//p[@class=\"article-text\"]')\n",
    "\n",
    "# Step 6: Extract and print text content from each <p> element\n",
    "print(\"\\nContent:\")\n",
    "for paragraph in paragraph_divs:\n",
    "    cleaned_text = paragraph.text_content().strip()\n",
    "    print(cleaned_text)\n"
   ]
  }
 ],
 "metadata": {
  "kernelspec": {
   "display_name": "Python 3 (ipykernel)",
   "language": "python",
   "name": "python3"
  },
  "language_info": {
   "codemirror_mode": {
    "name": "ipython",
    "version": 3
   },
   "file_extension": ".py",
   "mimetype": "text/x-python",
   "name": "python",
   "nbconvert_exporter": "python",
   "pygments_lexer": "ipython3",
   "version": "3.9.6"
  }
 },
 "nbformat": 4,
 "nbformat_minor": 5
}
