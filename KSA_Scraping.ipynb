{
 "cells": [
  {
   "cell_type": "code",
   "execution_count": 1,
   "metadata": {},
   "outputs": [],
   "source": [
    "import requests\n",
    "from lxml import html  # For parsing HTML\n",
    "import pandas as pd  # Import pandas for DataFrame"
   ]
  },
  {
   "cell_type": "markdown",
   "metadata": {},
   "source": [
    "Albilad"
   ]
  },
  {
   "cell_type": "code",
   "execution_count": 2,
   "metadata": {},
   "outputs": [
    {
     "name": "stdout",
     "output_type": "stream",
     "text": [
      "Title:\n",
      "“بي نت” تستحوذ على أصول البنية التحتية لجزر أمواج\n",
      "\n",
      "Updated Date not found.\n",
      "\n",
      "Content:\n",
      "أعلنت شركة شبكة البحرين “بي نت”، الشركة الوطنية المسؤولة عن توفير شبكة الألياف الضوئية ذات النطاق العريض في البحرين، عن استحواذها على جميع أصول البنية التحتية الخاصة بشبكة الألياف الضوئية (الفايبر) الثابتة في جزر أمواج. منذ عام 2022، عمل الطرفان منذ ذلك الحين على إتمام صفقة الاستحواذ على الأصول، التي ستُمكن الشركة من توسيع نطاق تغطية الشبكة بشكل أكبر، وتوفير خدمات اتصالات ذات جودة عالية لجميع المستخدمين والمقيمين في تلك المنطقة.\n",
      "\n",
      "وقال أحمد الدوسري الرئيس التنفيذي لشركة شبكة البحرين “بي نت” : “يأتي هذا الاستحواذ ليدعم رؤية صاحب السمو الملكي الأمير سلمان بن حمد آل خليفة وليّ العهد رئيس مجلس الوزراء حفظه الله، المعنية بتعزيز تنافسية واستدامة نمو قطاع الاتصالات وتقنية المعلومات، كونه يُمثل ركيزة داعمة لمختلف القطاعات الاقتصادية الحيوية”.\n",
      "\n",
      "ومن جهته، قال سعود عبدالعزيز كانو رئيس مجلس إدارة شركة “أُسس” المطوّرة لجزر أمواج : “ نتطلع من خلال شراكتنا مع شركة “بي نت”، لتمكين القاطنين في جزر أمواج من الحصول على خدمات اتصالات أكثر جودة وكفاءة دون انقطاع وبمستوى أفضل. كما سنبذل قصارى جهدنا لدعم أهداف الحكومة الموقرة فيما يتعلق برحلة الاقتصاد الرقمي عن طريق توحيد جميع أصول البنية التحتية الثابتة للاتصالات في البحرين”.\n",
      "\n",
      "DataFrame:\n",
      "                                               Title     Updated Date  \\\n",
      "0  “بي نت” تستحوذ على أصول البنية التحتية لجزر أمواج  Date not found.   \n",
      "\n",
      "                                             Content  \n",
      "0  أعلنت شركة شبكة البحرين “بي نت”، الشركة الوطني...  \n"
     ]
    }
   ],
   "source": [
    "# Step 1: Send a GET request to the URL\n",
    "url = 'https://www.albiladpress.com/news/2024/5890/finance/890015.html'\n",
    "response = requests.get(url)\n",
    "\n",
    "# Step 2: Parse the HTML content\n",
    "tree = html.fromstring(response.content)\n",
    "\n",
    "# Step 3: Find the element with class \"newsdetail_title\"\n",
    "title_element = tree.xpath('//h1[@class=\"title hidden visible-xs\"]')\n",
    "if title_element:\n",
    "    title_text = title_element[0].text_content().strip()\n",
    "    print(\"Title:\")\n",
    "    print(title_text)\n",
    "else:\n",
    "    print(\"Title not found.\")\n",
    "    title_text = ''  # Set title_text to empty string if not found\n",
    "\n",
    "# Step 4: Extract the updated date from the <font> tag inside <div class=\"article-date\">\n",
    "date_element = tree.xpath('//div[@class=\"article-date\"]//font/text()')\n",
    "if date_element:\n",
    "    updated_date = date_element[0].strip()\n",
    "    print(\"\\nUpdated Date:\")\n",
    "    print(updated_date)\n",
    "else:\n",
    "    updated_date = \"Date not found.\"\n",
    "    print(\"\\nUpdated Date not found.\")\n",
    "\n",
    "# Step 5: Find all <p> elements for content\n",
    "# Update the XPath to select all <p> elements within the main content area\n",
    "paragraph_divs = tree.xpath('//div[@class=\"text\"]//p/text()')  # This will target all <p> tags inside a div with class 'text'\n",
    "\n",
    "# Step 6: Extract and clean text from each matched <p> element\n",
    "content_texts = []\n",
    "print(\"\\nContent:\")\n",
    "for div in paragraph_divs:\n",
    "    content_texts.append(div.strip())\n",
    "    print(div.strip())\n",
    "\n",
    "# Step 7: Create a DataFrame to store the extracted data\n",
    "data = {\n",
    "    'Title': [title_text],\n",
    "    'Updated Date': [updated_date],  # Add the updated date to the data\n",
    "    'Content': [' '.join(content_texts)]  # Join all paragraphs into one string\n",
    "}\n",
    "\n",
    "df = pd.DataFrame(data)\n",
    "\n",
    "# Step 8: Display the DataFrame\n",
    "print(\"\\nDataFrame:\")\n",
    "print(df)\n"
   ]
  },
  {
   "cell_type": "code",
   "execution_count": null,
   "metadata": {},
   "outputs": [],
   "source": []
  }
 ],
 "metadata": {
  "kernelspec": {
   "display_name": "Python 3",
   "language": "python",
   "name": "python3"
  },
  "language_info": {
   "codemirror_mode": {
    "name": "ipython",
    "version": 3
   },
   "file_extension": ".py",
   "mimetype": "text/x-python",
   "name": "python",
   "nbconvert_exporter": "python",
   "pygments_lexer": "ipython3",
   "version": "3.11.3"
  }
 },
 "nbformat": 4,
 "nbformat_minor": 2
}
